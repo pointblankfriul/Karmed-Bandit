{
 "cells": [
  {
   "cell_type": "code",
   "execution_count": 1,
   "metadata": {},
   "outputs": [],
   "source": [
    "import Leverage as lv\n",
    "import Karmed as ka\n",
    "import matplotlib.pyplot as plt\n",
    "import numpy as np"
   ]
  },
  {
   "cell_type": "markdown",
   "metadata": {},
   "source": [
    "**STATIONARY BANDIT**"
   ]
  },
  {
   "cell_type": "code",
   "execution_count": 5,
   "metadata": {},
   "outputs": [],
   "source": [
    "# Bandit params\n",
    "no_bandits = 10\n",
    "bandits = []\n",
    "arms = 10\n",
    "means = [0, 1.5, 0.2, -0.5, -0.1, 0.8, 0.65, 0.15, -0.3, 0.95]\n",
    "sigmas = [0.3, 0.3, 0.3, 0.3, 0.3, 0.3, 0.3, 0.3, 0.3, 0.3]\n",
    "init_estim_vals = 0\n",
    "ucb_params = (False, 0.5)\n",
    "\n",
    "# Training params\n",
    "iter_per_run = 10000\n",
    "epsilon = 0.01"
   ]
  },
  {
   "cell_type": "code",
   "execution_count": 6,
   "metadata": {},
   "outputs": [],
   "source": [
    "for i in range(no_bandits):\n",
    "    bandits.append(ka.KarmedStationary(arms, means, sigmas, init_estim_vals, ucb_params))\n",
    "    bandits[i].setTrainParams(iter_per_run, epsilon)"
   ]
  },
  {
   "cell_type": "code",
   "execution_count": 7,
   "metadata": {},
   "outputs": [
    {
     "data": {
      "image/png": "[encoded data removed]",
      "text/plain": [
       "<Figure size 432x288 with 1 Axes>"
      ]
     },
     "metadata": {
      "needs_background": "light"
     },
     "output_type": "display_data"
    }
   ],
   "source": [
    "all_agents_iter_values = []\n",
    "for b in range(no_bandits):\n",
    "    iter_values, calculated_rewards = bandits[b].run()\n",
    "    all_agents_iter_values.append(iter_values)\n",
    "\n",
    "all_agents_iter_values = np.mean(all_agents_iter_values, axis=0)\n",
    "plt.plot(all_agents_iter_values)\n",
    "plt.ylabel('values over iters')\n",
    "plt.show()"
   ]
  },
  {
   "cell_type": "markdown",
   "metadata": {},
   "source": [
    "**NON-STATIONARY BANDIT**"
   ]
  },
  {
   "cell_type": "code",
   "execution_count": 1,
   "metadata": {},
   "outputs": [],
   "source": [
    "import Leverage as lv\n",
    "import Karmed as ka\n",
    "import matplotlib.pyplot as plt\n",
    "import numpy as np"
   ]
  },
  {
   "cell_type": "code",
   "execution_count": 5,
   "metadata": {},
   "outputs": [],
   "source": [
    "# Bandit params\n",
    "no_bandits = 10\n",
    "bandits = []\n",
    "arms = 10\n",
    "means = [0, 1.5, 0.2, -0.5, -0.1, 0.8, 0.65, 0.15, -0.3, 0.95]\n",
    "sigmas = [0.3, 0.3, 0.3, 0.3, 0.3, 0.3, 0.3, 0.3, 0.3, 0.3]\n",
    "init_estim_vals = 0\n",
    "alpha = 0.2\n",
    "normal_noise_mu = 0\n",
    "normal_noise_sigma = 0.02\n",
    "\n",
    "# Training params\n",
    "iter_per_run = 10000\n",
    "epsilon = 0.01"
   ]
  },
  {
   "cell_type": "code",
   "execution_count": 6,
   "metadata": {},
   "outputs": [],
   "source": [
    "for i in range(no_bandits):\n",
    "    bandits.append(ka.KarmedNonStationary(arms, means, sigmas, init_estim_vals, alpha))\n",
    "    bandits[i].setTrainParams(iter_per_run, epsilon)\n",
    "    bandits[i].setRandomNoise(normal_noise_mu, normal_noise_sigma)"
   ]
  },
  {
   "cell_type": "code",
   "execution_count": null,
   "metadata": {},
   "outputs": [],
   "source": [
    "all_agents_iter_values = []\n",
    "for b in range(no_bandits):\n",
    "    iter_values, calculated_rewards, leverages = bandits[b].run()\n",
    "    all_agents_iter_values.append(iter_values)\n",
    "\n",
    "all_agents_iter_values = np.mean(all_agents_iter_values, axis=0)\n",
    "plt.plot(all_agents_iter_values)\n",
    "plt.ylabel('values over iters')\n",
    "plt.show()\n",
    "\n",
    "for lev in leverages:\n",
    "    print('mu: ' + str(lev.getMu()) + '   sigma: ' + str(lev.getSigma()))"
   ]
  },
  {
   "cell_type": "markdown",
   "metadata": {},
   "source": [
    "**UPPER-CONFIDENCE-BOUND ACTION SELECTION**"
   ]
  },
  {
   "cell_type": "code",
   "execution_count": 5,
   "metadata": {},
   "outputs": [],
   "source": [
    "# Bandit params\n",
    "no_bandits = 10\n",
    "bandits = []\n",
    "arms = 10\n",
    "means = [0, 1.5, 0.2, -0.5, -0.1, 0.8, 0.65, 0.15, -0.3, 0.95]\n",
    "sigmas = [0.3, 0.3, 0.3, 0.3, 0.3, 0.3, 0.3, 0.3, 0.3, 0.3]\n",
    "init_estim_vals = 0\n",
    "ucb_params = (True, 0.5)\n",
    "\n",
    "# Training params\n",
    "iter_per_run = 10000\n",
    "epsilon = 0.01"
   ]
  },
  {
   "cell_type": "code",
   "execution_count": null,
   "metadata": {},
   "outputs": [],
   "source": [
    "for i in range(no_bandits):\n",
    "    bandits.append(ka.KarmedStationary(arms, means, sigmas, init_estim_vals, ucb_params))\n",
    "    bandits[i].setTrainParams(iter_per_run, epsilon)"
   ]
  },
  {
   "cell_type": "code",
   "execution_count": null,
   "metadata": {},
   "outputs": [],
   "source": [
    "all_agents_iter_values = []\n",
    "for b in range(no_bandits):\n",
    "    iter_values, calculated_rewards = bandits[b].run()\n",
    "    all_agents_iter_values.append(iter_values)\n",
    "\n",
    "all_agents_iter_values = np.mean(all_agents_iter_values, axis=0)\n",
    "plt.plot(all_agents_iter_values)\n",
    "plt.ylabel('values over iters')\n",
    "plt.show()"
   ]
  }
 ],
 "metadata": {
  "kernelspec": {
   "display_name": "Python 3",
   "language": "python",
   "name": "python3"
  },
  "language_info": {
   "codemirror_mode": {
    "name": "ipython",
    "version": 3
   },
   "file_extension": ".py",
   "mimetype": "text/x-python",
   "name": "python",
   "nbconvert_exporter": "python",
   "pygments_lexer": "ipython3",
   "version": "3.7.1"
  }
 },
 "nbformat": 4,
 "nbformat_minor": 2
}
